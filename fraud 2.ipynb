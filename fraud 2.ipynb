{
 "cells": [
  {
   "cell_type": "code",
   "execution_count": 1,
   "id": "03fecbf2",
   "metadata": {},
   "outputs": [],
   "source": [
    "import pandas as pd"
   ]
  },
  {
   "cell_type": "code",
   "execution_count": null,
   "id": "ad0c56df",
   "metadata": {},
   "outputs": [],
   "source": [
    "df= pd.read_excel(\"C:/Users/Ardra/Documents/fraud.xlsx\")"
   ]
  },
  {
   "cell_type": "code",
   "execution_count": null,
   "id": "83d21d7e",
   "metadata": {},
   "outputs": [],
   "source": [
    "from sklearn.preprocessing import LabelEncoder"
   ]
  },
  {
   "cell_type": "code",
   "execution_count": null,
   "id": "ce6536a2",
   "metadata": {},
   "outputs": [],
   "source": [
    "from sklearn import tree\n",
    "import pickle\n",
    "separate= df\n",
    "separate.head()"
   ]
  },
  {
   "cell_type": "code",
   "execution_count": null,
   "id": "7d257616",
   "metadata": {},
   "outputs": [],
   "source": [
    "separate[\"Origg\"]= separate[\"nameOrig\"].str[0]\n",
    "separate[\"Dest\"]= separate[\"nameDest\"].str[0]"
   ]
  },
  {
   "cell_type": "code",
   "execution_count": null,
   "id": "c437cfc1",
   "metadata": {},
   "outputs": [],
   "source": [
    "separate"
   ]
  },
  {
   "cell_type": "code",
   "execution_count": null,
   "id": "b3c8021f",
   "metadata": {},
   "outputs": [],
   "source": [
    "Orig_le = LabelEncoder()\n",
    "Dest_le= LabelEncoder()\n",
    "type_le = LabelEncoder()"
   ]
  },
  {
   "cell_type": "code",
   "execution_count": null,
   "id": "87d81a0b",
   "metadata": {},
   "outputs": [],
   "source": [
    "separate[\"Orig_le\"]= Orig_le.fit_transform(separate[\"Origg\"])\n",
    "separate[\"Dest_le\"]= Dest_le.fit_transform(separate[\"Dest\"])\n",
    "separate[\"type_le\"]= type_le.fit_transform(separate[\"type\"])"
   ]
  },
  {
   "cell_type": "code",
   "execution_count": null,
   "id": "4ecf4d63",
   "metadata": {},
   "outputs": [],
   "source": [
    "separate"
   ]
  },
  {
   "cell_type": "code",
   "execution_count": null,
   "id": "44b99869",
   "metadata": {},
   "outputs": [],
   "source": [
    "final= separate.drop([\"step\",\"type\",\"nameOrig\",\"nameDest\",\"isFlaggedFraud\",\"Origg\",\"Dest\"], axis= \"columns\")\n",
    "final"
   ]
  },
  {
   "cell_type": "code",
   "execution_count": null,
   "id": "47cdd3d6",
   "metadata": {},
   "outputs": [],
   "source": [
    "inputs= final.drop([\"isFraud\"],axis=\"columns\")\n",
    "ans= final.isFraud"
   ]
  },
  {
   "cell_type": "code",
   "execution_count": null,
   "id": "86435889",
   "metadata": {},
   "outputs": [],
   "source": [
    "from sklearn.model_selection import train_test_split\n",
    "x_train, x_test, y_train, y_test= train_test_split(inputs, ans, test_size= 0.3)"
   ]
  },
  {
   "cell_type": "code",
   "execution_count": null,
   "id": "332e7864",
   "metadata": {},
   "outputs": [],
   "source": [
    "finalmodel= tree.DecisionTreeClassifier()"
   ]
  },
  {
   "cell_type": "code",
   "execution_count": null,
   "id": "f4c3dc70",
   "metadata": {},
   "outputs": [],
   "source": [
    "finalmodel.fit(x_train, y_train)"
   ]
  },
  {
   "cell_type": "code",
   "execution_count": null,
   "id": "958ec704",
   "metadata": {},
   "outputs": [],
   "source": [
    "finalmodel.score(x_test, y_test)"
   ]
  },
  {
   "cell_type": "code",
   "execution_count": null,
   "id": "93831872",
   "metadata": {},
   "outputs": [],
   "source": [
    "with open(\"fraudmodel.pkl\", \"wb\") as f:\n",
    "    pickle.dump(finalmodel,f)"
   ]
  },
  {
   "cell_type": "code",
   "execution_count": null,
   "id": "a7c36971",
   "metadata": {},
   "outputs": [],
   "source": []
  }
 ],
 "metadata": {
  "kernelspec": {
   "display_name": "Python 3 (ipykernel)",
   "language": "python",
   "name": "python3"
  },
  "language_info": {
   "codemirror_mode": {
    "name": "ipython",
    "version": 3
   },
   "file_extension": ".py",
   "mimetype": "text/x-python",
   "name": "python",
   "nbconvert_exporter": "python",
   "pygments_lexer": "ipython3",
   "version": "3.9.12"
  }
 },
 "nbformat": 4,
 "nbformat_minor": 5
}
